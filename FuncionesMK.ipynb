{
  "nbformat": 4,
  "nbformat_minor": 0,
  "metadata": {
    "colab": {
      "provenance": []
    },
    "kernelspec": {
      "name": "python3",
      "display_name": "Python 3"
    },
    "language_info": {
      "name": "python"
    }
  },
  "cells": [
    {
      "cell_type": "code",
      "source": [
        "def ejecutar_sql (nombre_archivo, cur):\n",
        "    sql_file=open(nombre_archivo)\n",
        "    sql_as_string=sql_file.read()\n",
        "    sql_file.close\n",
        "    cur.executescript(sql_as_string)"
      ],
      "metadata": {
        "id": "Q7jDQq884AB7"
      },
      "execution_count": 1,
      "outputs": []
    }
  ]
}